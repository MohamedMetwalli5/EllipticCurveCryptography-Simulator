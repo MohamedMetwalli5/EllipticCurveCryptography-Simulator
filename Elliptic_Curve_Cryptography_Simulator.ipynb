{
  "nbformat": 4,
  "nbformat_minor": 0,
  "metadata": {
    "colab": {
      "provenance": [],
      "collapsed_sections": []
    },
    "kernelspec": {
      "name": "python3",
      "display_name": "Python 3"
    },
    "language_info": {
      "name": "python"
    }
  },
  "cells": [
    {
      "cell_type": "code",
      "execution_count": 45,
      "metadata": {
        "id": "yi4EugOuHS9p"
      },
      "outputs": [],
      "source": [
        "import matplotlib.pyplot as plt\n",
        "import numpy as np\n",
        "import random"
      ]
    },
    {
      "cell_type": "code",
      "source": [
        "x1_rand, y1_rand = 0.0, 0.0\n",
        "x2_rand, y2_rand = 0.0, 0.0\n",
        "private_key_n = 1\n",
        "for _ in range(private_key_n):\n",
        "  a = -1\n",
        "  b = 1\n",
        "  y, x = np.ogrid[-10:10:100j, -10:10:100j]\n",
        "  plt.contour(x.ravel(), y.ravel(), pow(y, 2) - pow(x, 3) - x * a - b, [0])  \n",
        "  plt.grid()\n",
        "  \n",
        "  while(y1_rand**2 != (x1_rand**3 + a*x1_rand + b)):\n",
        "    x1_rand = random.randrange(0, 10)\n",
        "    y1_rand = random.randrange(0, 10)\n",
        "  while(y2_rand**2 != (x2_rand**3 + a*x2_rand + b)):\n",
        "    x2_rand = random.randrange(0, 10)\n",
        "    y2_rand = random.randrange(0, 10)\n",
        "\n",
        "  plt.scatter(x1_rand, y1_rand, color='red')\n",
        "  plt.scatter(x2_rand, y2_rand, color='blue')\n",
        "  plt.plot([x1_rand, y1_rand],[x2_rand, y2_rand], color='green')\n",
        "\n",
        "  plt.show()\n",
        "  plt.pause(0.001)\n",
        "  plt.show()\n"
      ],
      "metadata": {
        "colab": {
          "base_uri": "https://localhost:8080/",
          "height": 269
        },
        "id": "XpvOcczERxZf",
        "outputId": "ade8929e-62a9-4e82-b634-89ffd046d08e"
      },
      "execution_count": 193,
      "outputs": [
        {
          "output_type": "display_data",
          "data": {
            "text/plain": [
              "<Figure size 432x288 with 1 Axes>"
            ],
            "image/png": "[encoded data removed]"
          },
          "metadata": {
            "needs_background": "light"
          }
        }
      ]
    }
  ]
}